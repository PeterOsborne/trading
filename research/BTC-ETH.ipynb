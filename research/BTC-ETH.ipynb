{
 "cells": [
  {
   "cell_type": "code",
   "execution_count": 3,
   "id": "4ec858a0",
   "metadata": {},
   "outputs": [],
   "source": [
    "import numpy as np\n",
    "import matplotlib.pyplot as plt\n",
    "import pandas as pd\n",
    "import statsmodels.api as sm\n",
    "from statsmodels.tsa.stattools import coint, adfuller"
   ]
  },
  {
   "cell_type": "code",
   "execution_count": 4,
   "id": "55839ee4",
   "metadata": {},
   "outputs": [],
   "source": [
    "eth_csv = '../data/eth_usd.csv'\n",
    "btc_csv = '../data/btc_usd.csv'\n",
    "columns = ['id', 'price', 'qty', 'base_qty', 'time', 'is_buyer_maker', 'unknown_flag']\n",
    "eth_df = pd.read_csv(eth_csv, header=None)\n",
    "btc_df = pd.read_csv(btc_csv, header=None)\n",
    "eth_df.columns = columns\n",
    "btc_df.columns = columns"
   ]
  },
  {
   "cell_type": "code",
   "execution_count": 5,
   "id": "db6bba54",
   "metadata": {},
   "outputs": [
    {
     "data": {
      "text/html": [
       "<div>\n",
       "<style scoped>\n",
       "    .dataframe tbody tr th:only-of-type {\n",
       "        vertical-align: middle;\n",
       "    }\n",
       "\n",
       "    .dataframe tbody tr th {\n",
       "        vertical-align: top;\n",
       "    }\n",
       "\n",
       "    .dataframe thead th {\n",
       "        text-align: right;\n",
       "    }\n",
       "</style>\n",
       "<table border=\"1\" class=\"dataframe\">\n",
       "  <thead>\n",
       "    <tr style=\"text-align: right;\">\n",
       "      <th></th>\n",
       "      <th>id</th>\n",
       "      <th>price</th>\n",
       "      <th>qty</th>\n",
       "      <th>base_qty</th>\n",
       "      <th>time</th>\n",
       "      <th>is_buyer_maker</th>\n",
       "      <th>unknown_flag</th>\n",
       "    </tr>\n",
       "  </thead>\n",
       "  <tbody>\n",
       "    <tr>\n",
       "      <th>0</th>\n",
       "      <td>50118416</td>\n",
       "      <td>2512.77</td>\n",
       "      <td>0.0888</td>\n",
       "      <td>223.133976</td>\n",
       "      <td>1725148803824</td>\n",
       "      <td>True</td>\n",
       "      <td>True</td>\n",
       "    </tr>\n",
       "    <tr>\n",
       "      <th>1</th>\n",
       "      <td>50118417</td>\n",
       "      <td>2512.40</td>\n",
       "      <td>0.3540</td>\n",
       "      <td>889.389600</td>\n",
       "      <td>1725148806278</td>\n",
       "      <td>True</td>\n",
       "      <td>True</td>\n",
       "    </tr>\n",
       "    <tr>\n",
       "      <th>2</th>\n",
       "      <td>50118418</td>\n",
       "      <td>2512.40</td>\n",
       "      <td>0.0994</td>\n",
       "      <td>249.732560</td>\n",
       "      <td>1725148806278</td>\n",
       "      <td>True</td>\n",
       "      <td>True</td>\n",
       "    </tr>\n",
       "    <tr>\n",
       "      <th>3</th>\n",
       "      <td>50118419</td>\n",
       "      <td>2512.37</td>\n",
       "      <td>0.0099</td>\n",
       "      <td>24.872463</td>\n",
       "      <td>1725148808888</td>\n",
       "      <td>False</td>\n",
       "      <td>True</td>\n",
       "    </tr>\n",
       "    <tr>\n",
       "      <th>4</th>\n",
       "      <td>50118420</td>\n",
       "      <td>2512.36</td>\n",
       "      <td>0.0500</td>\n",
       "      <td>125.618000</td>\n",
       "      <td>1725148809668</td>\n",
       "      <td>True</td>\n",
       "      <td>True</td>\n",
       "    </tr>\n",
       "  </tbody>\n",
       "</table>\n",
       "</div>"
      ],
      "text/plain": [
       "         id    price     qty    base_qty           time  is_buyer_maker  \\\n",
       "0  50118416  2512.77  0.0888  223.133976  1725148803824            True   \n",
       "1  50118417  2512.40  0.3540  889.389600  1725148806278            True   \n",
       "2  50118418  2512.40  0.0994  249.732560  1725148806278            True   \n",
       "3  50118419  2512.37  0.0099   24.872463  1725148808888           False   \n",
       "4  50118420  2512.36  0.0500  125.618000  1725148809668            True   \n",
       "\n",
       "   unknown_flag  \n",
       "0          True  \n",
       "1          True  \n",
       "2          True  \n",
       "3          True  \n",
       "4          True  "
      ]
     },
     "execution_count": 5,
     "metadata": {},
     "output_type": "execute_result"
    }
   ],
   "source": [
    "eth_df.head()"
   ]
  },
  {
   "cell_type": "code",
   "execution_count": 6,
   "id": "a9db3e09",
   "metadata": {},
   "outputs": [
    {
     "data": {
      "text/html": [
       "<div>\n",
       "<style scoped>\n",
       "    .dataframe tbody tr th:only-of-type {\n",
       "        vertical-align: middle;\n",
       "    }\n",
       "\n",
       "    .dataframe tbody tr th {\n",
       "        vertical-align: top;\n",
       "    }\n",
       "\n",
       "    .dataframe thead th {\n",
       "        text-align: right;\n",
       "    }\n",
       "</style>\n",
       "<table border=\"1\" class=\"dataframe\">\n",
       "  <thead>\n",
       "    <tr style=\"text-align: right;\">\n",
       "      <th></th>\n",
       "      <th>id</th>\n",
       "      <th>price</th>\n",
       "      <th>qty</th>\n",
       "      <th>base_qty</th>\n",
       "      <th>time</th>\n",
       "      <th>is_buyer_maker</th>\n",
       "      <th>unknown_flag</th>\n",
       "    </tr>\n",
       "  </thead>\n",
       "  <tbody>\n",
       "    <tr>\n",
       "      <th>0</th>\n",
       "      <td>100709562</td>\n",
       "      <td>58968.00</td>\n",
       "      <td>0.01100</td>\n",
       "      <td>648.648000</td>\n",
       "      <td>1725148800873</td>\n",
       "      <td>True</td>\n",
       "      <td>True</td>\n",
       "    </tr>\n",
       "    <tr>\n",
       "      <th>1</th>\n",
       "      <td>100709563</td>\n",
       "      <td>58968.01</td>\n",
       "      <td>0.00600</td>\n",
       "      <td>353.808060</td>\n",
       "      <td>1725148802937</td>\n",
       "      <td>False</td>\n",
       "      <td>True</td>\n",
       "    </tr>\n",
       "    <tr>\n",
       "      <th>2</th>\n",
       "      <td>100709564</td>\n",
       "      <td>58968.01</td>\n",
       "      <td>0.00042</td>\n",
       "      <td>24.766564</td>\n",
       "      <td>1725148803701</td>\n",
       "      <td>False</td>\n",
       "      <td>True</td>\n",
       "    </tr>\n",
       "    <tr>\n",
       "      <th>3</th>\n",
       "      <td>100709565</td>\n",
       "      <td>58968.00</td>\n",
       "      <td>0.00666</td>\n",
       "      <td>392.726880</td>\n",
       "      <td>1725148803926</td>\n",
       "      <td>True</td>\n",
       "      <td>True</td>\n",
       "    </tr>\n",
       "    <tr>\n",
       "      <th>4</th>\n",
       "      <td>100709566</td>\n",
       "      <td>58968.00</td>\n",
       "      <td>0.00015</td>\n",
       "      <td>8.845200</td>\n",
       "      <td>1725148803926</td>\n",
       "      <td>True</td>\n",
       "      <td>True</td>\n",
       "    </tr>\n",
       "  </tbody>\n",
       "</table>\n",
       "</div>"
      ],
      "text/plain": [
       "          id     price      qty    base_qty           time  is_buyer_maker  \\\n",
       "0  100709562  58968.00  0.01100  648.648000  1725148800873            True   \n",
       "1  100709563  58968.01  0.00600  353.808060  1725148802937           False   \n",
       "2  100709564  58968.01  0.00042   24.766564  1725148803701           False   \n",
       "3  100709565  58968.00  0.00666  392.726880  1725148803926            True   \n",
       "4  100709566  58968.00  0.00015    8.845200  1725148803926            True   \n",
       "\n",
       "   unknown_flag  \n",
       "0          True  \n",
       "1          True  \n",
       "2          True  \n",
       "3          True  \n",
       "4          True  "
      ]
     },
     "execution_count": 6,
     "metadata": {},
     "output_type": "execute_result"
    }
   ],
   "source": [
    "btc_df.head()"
   ]
  },
  {
   "cell_type": "code",
   "execution_count": 7,
   "id": "2677eba2",
   "metadata": {},
   "outputs": [],
   "source": [
    "price_ratio = btc_df['price'] / eth_df['price']"
   ]
  },
  {
   "cell_type": "code",
   "execution_count": 8,
   "id": "67e14c11",
   "metadata": {},
   "outputs": [],
   "source": [
    "btc_df = btc_df.iloc[:79573]"
   ]
  },
  {
   "cell_type": "code",
   "execution_count": 9,
   "id": "3af350fa",
   "metadata": {},
   "outputs": [
    {
     "data": {
      "image/png": "[encoded data removed]",
      "text/plain": [
       "<Figure size 640x480 with 2 Axes>"
      ]
     },
     "metadata": {},
     "output_type": "display_data"
    }
   ],
   "source": [
    "# Create a new figure and axis\n",
    "fig, ax1 = plt.subplots()\n",
    "\n",
    "ax1.plot(btc_df['price'], color='blue', label='BTC Price')\n",
    "ax1.set_xlabel('Time')\n",
    "ax1.set_ylabel('BTC Price', color='blue')\n",
    "ax1.tick_params(axis='y', labelcolor='blue')\n",
    "\n",
    "ax2 = ax1.twinx()\n",
    "ax2.plot(eth_df['price'], color='green', label='ETH Price')\n",
    "ax2.set_ylabel('ETH Price', color='green')\n",
    "ax2.tick_params(axis='y', labelcolor='green')\n",
    "\n",
    "plt.title('BTC and ETH Prices')\n",
    "plt.show()"
   ]
  },
  {
   "cell_type": "code",
   "execution_count": 10,
   "id": "003f1b6e",
   "metadata": {},
   "outputs": [],
   "source": [
    "def stationarity_test(X, cutoff=0.01):\n",
    "    # H_0 in adfuller is unit root exists (non-stationary)\n",
    "    # We must observe significant p-value to convince ourselves that the series is stationary\n",
    "    pvalue = adfuller(X)[1]\n",
    "    if pvalue < cutoff:\n",
    "        print('p-value = ' + str(pvalue) + ' The series ' + X.name +' is likely stationary.')\n",
    "    else:\n",
    "        print('p-value = ' + str(pvalue) + ' The series ' + X.name +' is likely non-stationary.')"
   ]
  },
  {
   "cell_type": "markdown",
   "id": "f2763e25",
   "metadata": {},
   "source": [
    "## Stationarity of Ratio"
   ]
  },
  {
   "cell_type": "code",
   "execution_count": 11,
   "id": "c53675c7",
   "metadata": {},
   "outputs": [
    {
     "name": "stdout",
     "output_type": "stream",
     "text": [
      "p-value = 0.22459585266322674 The series price is likely non-stationary.\n"
     ]
    }
   ],
   "source": [
    "stationarity_test(btc_df['price'])"
   ]
  },
  {
   "cell_type": "code",
   "execution_count": 12,
   "id": "ab0817dc",
   "metadata": {},
   "outputs": [
    {
     "name": "stdout",
     "output_type": "stream",
     "text": [
      "p-value = 0.5455794270194505 The series price is likely non-stationary.\n"
     ]
    }
   ],
   "source": [
    "stationarity_test(eth_df['price'])"
   ]
  },
  {
   "cell_type": "code",
   "execution_count": 13,
   "id": "491ffc33",
   "metadata": {},
   "outputs": [
    {
     "name": "stdout",
     "output_type": "stream",
     "text": [
      "p-value = 0.5802029070176266 The series price is likely non-stationary.\n"
     ]
    }
   ],
   "source": [
    "stationarity_test(btc_df['price']/eth_df['price'])"
   ]
  },
  {
   "cell_type": "markdown",
   "id": "0f54c66a",
   "metadata": {},
   "source": [
    "## Stationarity of Spread"
   ]
  },
  {
   "cell_type": "code",
   "execution_count": 14,
   "id": "e345db1f",
   "metadata": {},
   "outputs": [
    {
     "name": "stdout",
     "output_type": "stream",
     "text": [
      "0.5996159649558042\n"
     ]
    }
   ],
   "source": [
    "score, pvalue, _ = coint(btc_df['price'],eth_df['price'])\n",
    "print(pvalue)"
   ]
  },
  {
   "cell_type": "code",
   "execution_count": 15,
   "id": "36c9c57d",
   "metadata": {},
   "outputs": [
    {
     "ename": "",
     "evalue": "",
     "output_type": "error",
     "traceback": [
      "\u001b[1;31mThe Kernel crashed while executing code in the current cell or a previous cell. \n",
      "\u001b[1;31mPlease review the code in the cell(s) to identify a possible cause of the failure. \n",
      "\u001b[1;31mClick <a href='https://aka.ms/vscodeJupyterKernelCrash'>here</a> for more info. \n",
      "\u001b[1;31mView Jupyter <a href='command:jupyter.viewOutput'>log</a> for further details."
     ]
    }
   ],
   "source": [
    "S1 = btc_df['price']\n",
    "S2 = eth_df['price']"
   ]
  },
  {
   "cell_type": "code",
   "execution_count": null,
   "id": "63a79f60",
   "metadata": {},
   "outputs": [
    {
     "name": "stdout",
     "output_type": "stream",
     "text": [
      "const    682.011563\n",
      "price      0.030675\n",
      "dtype: float64\n"
     ]
    }
   ],
   "source": [
    "S1 = sm.add_constant(S1)\n",
    "results = sm.OLS(S2, S1).fit()\n",
    "print(results.params)\n",
    "b = results.params['const']\n",
    "\n",
    "spread = S2 - b * S1\n",
    "spread.plot(figsize=(12,6))\n",
    "plt.axhline(spread.mean(), color='black')\n",
    "plt.legend(['Spread']);"
   ]
  },
  {
   "cell_type": "code",
   "execution_count": null,
   "id": "e10a066d",
   "metadata": {},
   "outputs": [],
   "source": []
  },
  {
   "cell_type": "code",
   "execution_count": null,
   "id": "2754252f",
   "metadata": {},
   "outputs": [],
   "source": []
  }
 ],
 "metadata": {
  "kernelspec": {
   "display_name": "venv",
   "language": "python",
   "name": "python3"
  },
  "language_info": {
   "codemirror_mode": {
    "name": "ipython",
    "version": 3
   },
   "file_extension": ".py",
   "mimetype": "text/x-python",
   "name": "python",
   "nbconvert_exporter": "python",
   "pygments_lexer": "ipython3",
   "version": "3.12.1"
  }
 },
 "nbformat": 4,
 "nbformat_minor": 5
}
